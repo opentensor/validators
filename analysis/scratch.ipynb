{
 "cells": [
  {
   "cell_type": "code",
   "execution_count": null,
   "metadata": {},
   "outputs": [],
   "source": [
    "\n",
    "# Set up wandb.\n",
    "import wandb\n",
    "api = wandb.Api(timeout=60)\n",
    "wandb.login()\n",
    "\n",
    "# Set up pandas\n",
    "import pandas as pd\n",
    "# set pandas column width\n",
    "pd.set_option('display.max_colwidth', 500)\n",
    "\n",
    "from plotting import plot_throughput, plot_completion_rates, plot_weights, plot_dendrite_rates, plot_leaderboard, plot_network_embedding, plot_completion_rewards\n"
   ]
  },
  {
   "attachments": {},
   "cell_type": "markdown",
   "metadata": {},
   "source": [
    "# Access the run"
   ]
  },
  {
   "cell_type": "code",
   "execution_count": null,
   "metadata": {},
   "outputs": [],
   "source": [
    "run_id = \"kltiefxf\" # replace this with your own.\n",
    "run = api.run(f\"/opentensor/opentensor-validator/runs/{run_id}\")"
   ]
  },
  {
   "cell_type": "code",
   "execution_count": null,
   "metadata": {},
   "outputs": [],
   "source": [
    "# Reload the history.\n",
    "df = run.history(samples=100000)\n",
    "print(f'History for run {run_id!r} contains {len(df)} records. Dataframe shape: {df.shape}')\n"
   ]
  },
  {
   "cell_type": "code",
   "execution_count": null,
   "metadata": {},
   "outputs": [],
   "source": [
    "\n",
    "df.to_csv(f'history-{run_id}.csv')"
   ]
  },
  {
   "cell_type": "code",
   "execution_count": null,
   "metadata": {},
   "outputs": [],
   "source": [
    "# Convert timestamp to datetime.\n",
    "df._timestamp = pd.to_datetime(df._timestamp, unit='s')\n",
    "df.head()"
   ]
  },
  {
   "cell_type": "code",
   "execution_count": null,
   "metadata": {},
   "outputs": [],
   "source": [
    "\n",
    "# List columns\n",
    "df.info()"
   ]
  },
  {
   "cell_type": "code",
   "execution_count": null,
   "metadata": {},
   "outputs": [],
   "source": [
    "df['best_followup'].value_counts()"
   ]
  },
  {
   "attachments": {},
   "cell_type": "markdown",
   "metadata": {},
   "source": [
    "## Contents of first log entry"
   ]
  },
  {
   "cell_type": "code",
   "execution_count": null,
   "metadata": {},
   "outputs": [],
   "source": [
    "df.iloc[0]"
   ]
  },
  {
   "cell_type": "code",
   "execution_count": null,
   "metadata": {},
   "outputs": [],
   "source": [
    "# Get number of unique elements and list lengths for ith row\n",
    "i = 0\n",
    "pd.DataFrame([{'name':k, 'nunique':len(set(a)), 'length':len(a)} for k, a in df.iloc[i].items() if isinstance(a, list)])"
   ]
  },
  {
   "cell_type": "code",
   "execution_count": null,
   "metadata": {},
   "outputs": [],
   "source": [
    "df.loc[0,'answer_completions']"
   ]
  },
  {
   "attachments": {},
   "cell_type": "markdown",
   "metadata": {},
   "source": [
    "# Logging throughput"
   ]
  },
  {
   "cell_type": "code",
   "execution_count": null,
   "metadata": {},
   "outputs": [],
   "source": [
    "plot_throughput(df,n_minutes=10)"
   ]
  },
  {
   "attachments": {},
   "cell_type": "markdown",
   "metadata": {},
   "source": [
    "# Dendrite Response Success Rates"
   ]
  },
  {
   "cell_type": "code",
   "execution_count": null,
   "metadata": {},
   "outputs": [],
   "source": [
    "# plots dendrite completion success rates (for answers by default)\n",
    "plot_dendrite_rates(df)\n"
   ]
  },
  {
   "cell_type": "code",
   "execution_count": null,
   "metadata": {},
   "outputs": [],
   "source": [
    "# plot dendrite completion rates for followup (with random uids for illustration purposes)\n",
    "\n",
    "plot_dendrite_rates(df, uid_col='followup_uids', reward_col='followup_rewards', uids=[11,4,72,105,21,444,51,34,100,200,299])\n"
   ]
  },
  {
   "attachments": {},
   "cell_type": "markdown",
   "metadata": {},
   "source": [
    "# Network Weights"
   ]
  },
  {
   "cell_type": "code",
   "execution_count": null,
   "metadata": {},
   "outputs": [],
   "source": [
    "# Create a column for each UID and show most recent rows\n",
    "scores = df['moving_averaged_scores'].apply(pd.Series)\n",
    "# use timestamp as index\n",
    "scores.index = df['_timestamp']\n",
    "# rename columns\n",
    "scores.rename({i: f'UID-{i}' for i in range(scores.shape[1])}, axis=1, inplace=True)\n",
    "# show most recent rows\n",
    "scores.tail(10)"
   ]
  },
  {
   "cell_type": "code",
   "execution_count": null,
   "metadata": {},
   "outputs": [],
   "source": [
    "# plot_weights(scores, ntop=10)\n",
    "\n",
    "# plot specific uid weights\n",
    "plot_weights(scores.iloc[::50], uids=['UID-0','UID-129','UID-313'])\n",
    "\n",
    "# plot Every 50th row\n",
    "# plot_weights(scores.iloc[::50]).show()"
   ]
  },
  {
   "attachments": {},
   "cell_type": "markdown",
   "metadata": {},
   "source": [
    "# Analyze Completion Rates"
   ]
  },
  {
   "cell_type": "code",
   "execution_count": null,
   "metadata": {},
   "outputs": [],
   "source": [
    "# popularity-based completion search\n",
    "plot_completion_rates(df, msg_col='answer_completions', time_interval='H', ntop=20)"
   ]
  },
  {
   "cell_type": "code",
   "execution_count": null,
   "metadata": {},
   "outputs": [],
   "source": [
    "# specific completion search\n",
    "completions = [\n",
    "    'The magnitude of the 2008 Panzhihua earthquake was Ms 6.1.',\n",
    "    'The reason for Chopin\\'s preference for playing at his own Paris apartment for small groups of friends is not mentioned in the given text.'\n",
    "    ]    \n",
    "plot_completion_rates(df, msg_col='answer_completions', time_interval='30T', ntop=20, completions=completions)"
   ]
  },
  {
   "cell_type": "code",
   "execution_count": null,
   "metadata": {},
   "outputs": [],
   "source": [
    "# regex-based completion search\n",
    "plot_completion_rates(df, msg_col='answer_completions', time_interval='H', ntop=20, completion_regex='fuck|baseball')"
   ]
  },
  {
   "attachments": {},
   "cell_type": "markdown",
   "metadata": {},
   "source": [
    "# Plot Rewards for a Set of Completions"
   ]
  },
  {
   "cell_type": "code",
   "execution_count": null,
   "metadata": {},
   "outputs": [],
   "source": [
    "plot_completion_rewards(df)\n"
   ]
  },
  {
   "cell_type": "code",
   "execution_count": null,
   "metadata": {},
   "outputs": [],
   "source": [
    "\n",
    "# Show for specific completions\n",
    "completions = [\n",
    "    'What other notable achievements has Beyoncé accomplished in her career?',\n",
    "    'What is the capital city of the Republic of the Congo?',\n",
    "    'What was the plot of Spectre?'\n",
    "]\n",
    "plot_completion_rewards(df, completions=completions)"
   ]
  },
  {
   "attachments": {},
   "cell_type": "markdown",
   "metadata": {},
   "source": [
    "# Plot Reward Leaderboard"
   ]
  },
  {
   "cell_type": "code",
   "execution_count": null,
   "metadata": {},
   "outputs": [],
   "source": [
    "plot_leaderboard(df)"
   ]
  },
  {
   "attachments": {},
   "cell_type": "markdown",
   "metadata": {},
   "source": [
    "# Plot Embedding of Completions"
   ]
  },
  {
   "cell_type": "code",
   "execution_count": null,
   "metadata": {},
   "outputs": [],
   "source": [
    "\n",
    "plot_network_embedding(df)"
   ]
  }
 ],
 "metadata": {
  "kernelspec": {
   "display_name": "Python 3",
   "language": "python",
   "name": "python3"
  },
  "language_info": {
   "codemirror_mode": {
    "name": "ipython",
    "version": 3
   },
   "file_extension": ".py",
   "mimetype": "text/x-python",
   "name": "python",
   "nbconvert_exporter": "python",
   "pygments_lexer": "ipython3",
   "version": "3.9.1"
  },
  "orig_nbformat": 4
 },
 "nbformat": 4,
 "nbformat_minor": 2
}
